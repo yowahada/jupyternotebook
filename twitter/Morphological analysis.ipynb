{
 "cells": [
  {
   "cell_type": "code",
   "execution_count": 116,
   "metadata": {},
   "outputs": [],
   "source": [
    "import pandas as pd\n",
    "from janome.tokenizer import Tokenizer\n",
    "from collections import Counter, defaultdict\n",
    "import matplotlib\n",
    "import matplotlib.pyplot as plt\n",
    "%matplotlib inline\n",
    "\n",
    "# col_names = [ 'c{0:02d}'.format(i) for i in range(2) ]\n",
    "col_names = ['tweet','created_at']\n",
    "\n",
    "df_f = pd.read_csv(\"tweet(kw_リノベーション).csv\", sep=',', names=col_names)\n",
    "df_lyric = pd.read_csv(\"wanima\",names=['lyric'])\n",
    "\n",
    "pn_df = pd.read_csv('pn_ja.dic.txt', \n",
    "                   sep = ':',\n",
    "                   encoding='utf-8',\n",
    "                   names=('Word','Reading','POS','PN')\n",
    "                   )"
   ]
  },
  {
   "cell_type": "code",
   "execution_count": 117,
   "metadata": {},
   "outputs": [],
   "source": [
    "# ====================\n",
    "# PN tableを辞書化\n",
    "# ====================\n",
    "\n",
    "word_list = list(pn_df['Word'])\n",
    "pn_list = list(pn_df['PN'])\n",
    "pn_dict = dict(zip(word_list, pn_list))"
   ]
  },
  {
   "cell_type": "code",
   "execution_count": 120,
   "metadata": {},
   "outputs": [],
   "source": [
    "# ====================\n",
    "# 形態素解析関数\n",
    "# ====================\n",
    "def counter(tw_list):\n",
    "    t = Tokenizer()\n",
    "    words_count = defaultdict(int)\n",
    "    words = []\n",
    "    all_word = [] #全品詞用\n",
    "    for text in tw_list:\n",
    "        tokens = t.tokenize(text)\n",
    "        for token in tokens:\n",
    "            pos = token.part_of_speech.split(',')[0]\n",
    "            all_word.append(token.base_form)\n",
    "            if pos == '名詞':\n",
    "                words_count[token.base_form] += 1\n",
    "                words.append(token.base_form)\n",
    "    return words_count, words, all_word"
   ]
  },
  {
   "cell_type": "code",
   "execution_count": 121,
   "metadata": {},
   "outputs": [],
   "source": [
    "# ====================\n",
    "# ひたすら前処理\n",
    "# ====================\n",
    "# tweet用\n",
    "texts = []\n",
    "df_tweet = df_f['tweet']\n",
    "\n",
    "for row in df_tweet:\n",
    "    text = row.split('http')\n",
    "    text = text[0]\n",
    "    texts.append(text)\n",
    "\n",
    "tw_list = []    \n",
    "for i in range(len(texts)):\n",
    "    if 'RT' in texts[i]:\n",
    "        pass\n",
    "    else:\n",
    "        tw_list.append(texts[i])\n",
    "\n",
    "# 歌詞用\n",
    "lyric_list = list(df_lyric['lyric'])"
   ]
  },
  {
   "cell_type": "code",
   "execution_count": 135,
   "metadata": {},
   "outputs": [],
   "source": [
    "# ====================\n",
    "#　janomeで形態素解析(変数はリストで)\n",
    "# ====================\n",
    "words_count, words, all_word = counter(tw_list)"
   ]
  },
  {
   "cell_type": "code",
   "execution_count": 136,
   "metadata": {},
   "outputs": [],
   "source": [
    "# ====================\n",
    "#　解析後のデータ整形\n",
    "# ====================\n",
    "clear_words = []\n",
    "for i in range(len(words)):\n",
    "    if len(words[i]) <= 1:\n",
    "        pass\n",
    "    else:\n",
    "        clear_words.append(words[i])\n",
    "\n",
    "clear_all_word = []\n",
    "for i in range(len(all_word)):\n",
    "    if len(all_word[i]) <= 1:\n",
    "        pass\n",
    "    else:\n",
    "        clear_all_word.append(all_word[i])"
   ]
  },
  {
   "cell_type": "code",
   "execution_count": 128,
   "metadata": {},
   "outputs": [],
   "source": [
    "# ====================\n",
    "#　結果に単語ごとPN値を追加\n",
    "# ====================\n",
    "def add_pnvalue(diclist_old):\n",
    "    pn_list = []\n",
    "    text_list = []\n",
    "    for word in diclist_old:\n",
    "        if word in pn_dict:\n",
    "            pn = float(pn_dict[word])\n",
    "            pn_list.append(pn)\n",
    "            text_list.append(word)\n",
    "        else:\n",
    "            pass\n",
    "    return pn_list, text_list"
   ]
  },
  {
   "cell_type": "code",
   "execution_count": 137,
   "metadata": {},
   "outputs": [],
   "source": [
    "pn_list, text_list = add_pnvalue(clear_all_word)\n",
    "\n",
    "df = pd.DataFrame({\n",
    "    'text':text_list,\n",
    "    'PN':pn_list,               \n",
    "                  },columns=['text','PN'])"
   ]
  },
  {
   "cell_type": "code",
   "execution_count": 139,
   "metadata": {
    "scrolled": true
   },
   "outputs": [
    {
     "data": {
      "text/plain": [
       "(0, 2000)"
      ]
     },
     "execution_count": 139,
     "metadata": {},
     "output_type": "execute_result"
    },
    {
     "data": {
      "image/png": "[encoded data removed]",
      "text/plain": [
       "<matplotlib.figure.Figure at 0x10fe500f0>"
      ]
     },
     "metadata": {},
     "output_type": "display_data"
    }
   ],
   "source": [
    "# ====================\n",
    "# pandasで簡単に状況把握\n",
    "# ====================\n",
    "\n",
    "# df = pd.DataFrame(clear_words, columns=['word'])\n",
    "# df['count'] = 1\n",
    "# df = df.groupby('word').sum().sort_values(by='count', ascending=False)\n",
    "# df_count = df[df['count'] >50]\n",
    "# df_count = df[df['count'] < 3000]\n",
    "# df_count.hist(column='count')\n",
    "\n",
    "# df.hist()\n",
    "plt.plot(pn_list)\n",
    "plt.xlim(0,2000)"
   ]
  },
  {
   "cell_type": "code",
   "execution_count": null,
   "metadata": {
    "collapsed": true
   },
   "outputs": [],
   "source": []
  },
  {
   "cell_type": "code",
   "execution_count": null,
   "metadata": {
    "collapsed": true
   },
   "outputs": [],
   "source": []
  },
  {
   "cell_type": "code",
   "execution_count": null,
   "metadata": {
    "collapsed": true
   },
   "outputs": [],
   "source": []
  }
 ],
 "metadata": {
  "kernelspec": {
   "display_name": "Python 3",
   "language": "python",
   "name": "python3"
  },
  "language_info": {
   "codemirror_mode": {
    "name": "ipython",
    "version": 3
   },
   "file_extension": ".py",
   "mimetype": "text/x-python",
   "name": "python",
   "nbconvert_exporter": "python",
   "pygments_lexer": "ipython3",
   "version": "3.6.1"
  }
 },
 "nbformat": 4,
 "nbformat_minor": 2
}
