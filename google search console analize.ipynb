{
 "cells": [
  {
   "cell_type": "code",
   "execution_count": 31,
   "metadata": {
    "scrolled": true
   },
   "outputs": [
    {
     "name": "stdout",
     "output_type": "stream",
     "text": [
      "{'encoding': 'CP932', 'confidence': 0.99, 'language': 'Japanese'}\n"
     ]
    }
   ],
   "source": [
    "import os\n",
    "\n",
    "# csv文字型抽出\n",
    "with open(\"201704_index_queries.csv\", mode='rb') as f:\n",
    "    binary = f.read()\n",
    "text = chardet.detect(binary)\n",
    "print(text)"
   ]
  },
  {
   "cell_type": "code",
   "execution_count": 32,
   "metadata": {
    "collapsed": true
   },
   "outputs": [],
   "source": [
    "import pandas as pd\n",
    "import chardet\n",
    "import numpy as np\n",
    "import os\n",
    "import matplotlib.pyplot as plt\n",
    "%matplotlib inline\n",
    "\n",
    "#カレントディレクトリ抽出\n",
    "f = os.path.abspath(\".\")\n",
    "files = os.listdir(f)\n",
    "\n",
    "lists = []\n",
    "\n",
    "#csvファイルリスト抽出\n",
    "for i in files:\n",
    "    if 'queries.csv' in i:\n",
    "        lists.append(i)"
   ]
  },
  {
   "cell_type": "code",
   "execution_count": 103,
   "metadata": {
    "collapsed": true
   },
   "outputs": [],
   "source": [
    "# 集計用関数\n",
    "def Aggregate(dfkw):\n",
    "    csv = dfkw\n",
    "    col = ['取得日','クエリ','インプレッション数','クリック数','CTR','平均掲載順位']\n",
    "    s_query = \"インプレッション数\"\n",
    "    rank = 9\n",
    "    imp = 100\n",
    "\n",
    "#     csv読み込み\n",
    "    df_raw = pd.read_csv(csv ,encoding=\"CP932\", index_col='通し番号')\n",
    "\n",
    "    df_sort = df_raw.loc[:,col].sort_values(by=s_query, ascending=False)\n",
    "    df_ck = df_sort[df_sort[\"クリック数\"] >0]\n",
    "    df_nck = df_sort[df_sort [\"クリック数\"] == 0]\n",
    "\n",
    "    # クリック有、rank以上、imp以上\n",
    "    df_h = df_ck[df_ck[\"平均掲載順位\"] < rank\n",
    "                ].sort_values(by=[s_query],ascending=False)\n",
    "    \n",
    "    df_high = df_h[df_h[s_query] > imp]\n",
    "\n",
    "    # クリック有、rank以下、imp以上\n",
    "    df_m = df_ck[df_ck[\"平均掲載順位\"] > rank\n",
    "                ].sort_values(by=[s_query],ascending=False)\n",
    "    \n",
    "    df_md = df_m[df_m[s_query] >imp]\n",
    "    \n",
    "    # クリック無、rank以上、imp以上\n",
    "    df_l = df_nck[df_nck[\"平均掲載順位\"]  < rank\n",
    "                 ].sort_values(by=[s_query],ascending=False)\n",
    "    \n",
    "    df_low = df_l[df_l[s_query] > imp ]\n",
    "\n",
    "    sortdata_list = [df_high, df_md, df_low,df_raw]\n",
    "    return(sortdata_list)"
   ]
  },
  {
   "cell_type": "code",
   "execution_count": 111,
   "metadata": {},
   "outputs": [],
   "source": [
    "\"\"\"\n",
    "各条件でrawデータを加工しリストへappend\n",
    "Dataframe型で使用したいのでpd.concatでリストをconcat\n",
    "ここでは3つの条件で抽出したDataframeがdf_listsに格納されている\n",
    "\"\"\"\n",
    "\n",
    "# リスト作成\n",
    "df_high = [] \n",
    "df_md = [] \n",
    "df_low = [] \n",
    "df_raw = []\n",
    "df_lists = [df_high, df_md, df_low, df_raw]\n",
    "\n",
    "# データセットリスト作成\n",
    "for j, dfkw in enumerate(lists): #　lists = csvリスト\n",
    "    df_list = Aggregate(dfkw)\n",
    "    for m in range(len(df_list)):\n",
    "        df_lists[m].append(df_list[m]) #簡略化\n",
    "\n",
    "# データ統合\n",
    "con_lists = []\n",
    "\n",
    "for n in range(len(df_lists)):\n",
    "    d = pd.concat(df_lists[n],  ignore_index=True)\n",
    "    con_lists.append(d)"
   ]
  },
  {
   "cell_type": "code",
   "execution_count": 112,
   "metadata": {
    "scrolled": true
   },
   "outputs": [],
   "source": [
    "\"\"\"\n",
    "ピポットにてクエリをキーにして年月でgrop_by\n",
    "列のnull個数算出 + 判定列追加\n",
    "注意点として直近浮上したデータはこの処理で排除される可能性があるためnull_numsには注意が必要\n",
    "整形したデータを分析対象として使用する\n",
    "\"\"\"\n",
    "\n",
    "# ピポットデータの取得\n",
    "ptdf_lists = []\n",
    "value = [\"インプレッション数\",\"クリック数\",\"CTR\",\"平均掲載順位\"]\n",
    "\n",
    "for o in range(len(con_lists)):\n",
    "    df_setpivot = con_lists[o].pivot_table(values = value\n",
    "                                      , index = \"クエリ\", columns = \"取得日\"\n",
    "                                      , aggfunc = 'sum'\n",
    "#                                       , fill_value = 0\n",
    "                                      )\n",
    "    ptdf_lists.append(df_setpivot)\n",
    "\n",
    "\n",
    "# level1リストの取得\n",
    "df_col = ptdf_lists[0].columns.get_level_values(level=1)[1:8].unique() # dtype='object'\n",
    "\n",
    "col_list = []\n",
    "for r in range(len(df_col)):\n",
    "    col_list.append(df_col[r])\n",
    "\n",
    "# 変数定義\n",
    "nlost_lists = []\n",
    "query =\"インプレッション数\"\n",
    "null_nums = 1\n",
    "\n",
    "#  query列のnull個数算出 + 判定列追加\n",
    "for p in  range(len(ptdf_lists)):\n",
    "    null_num = 0\n",
    "    \n",
    "    # 検索query単体でファイルが存在する月の合計null個数カウント\n",
    "    for s in range(len(col_list)):\n",
    "            null_num += ptdf_lists[p][query][col_list[s]].isnull()*1\n",
    "\n",
    "    # 検索query単体の月の合計null許容数\n",
    "    df_set = ptdf_lists[p].assign(null_check = (null_num) > null_nums) \n",
    "    df_set = df_set.fillna(0)\n",
    "    df_set = df_set.assign(mean = (df_set[query].mean(1)))\n",
    "    df_set = df_set[df_set['null_check'] == False]\n",
    "    nlost_lists.append(df_set)"
   ]
  },
  {
   "cell_type": "code",
   "execution_count": 117,
   "metadata": {},
   "outputs": [],
   "source": [
    "\"\"\"\n",
    "検索クエリベースでの評価用\n",
    "nlost_lists\n",
    "クリック有、rank以上、imp以上(num = 0)\n",
    "クリック有、rank以下、imp以上(num = 1)\n",
    "クリック無、rank以上、imp以上(num = 2)\n",
    "\"\"\"\n",
    "num = 0\n",
    "q_query = 'インプレッション数'\n",
    "condition_num = 500\n",
    "\n",
    "df_sample = nlost_lists[num][q_query]\n",
    "df_t = df_sample.T\n",
    "df_sc = df_t.columns\n",
    "\n",
    "\n",
    "\"\"\"\n",
    "検索クエリベースでの評価\n",
    "後ほど関数化\n",
    "\"\"\"\n",
    "# 検索クエリ一覧。文言抽出時に使用\n",
    "sample_list = []\n",
    "for u in df_sc:\n",
    "    sample_list.append(u)\n",
    "\n",
    "# # 単月最大q_queryがcondition_numを超えるクエリ\n",
    "df_qover =  nlost_lists[num].assign(check = (df_t.max() > condition_num))\n",
    "df_qover = df_qover[df_qover['check'] == True]\n",
    "\n",
    "# # 単月最大q_queryがcondition_num以下のクエリ\n",
    "df_qunder =  nlost_lists[num].assign(check = (df_t.max() > condition_num))\n",
    "df_qunder = df_qunder[df_qunder['check'] == False]\n"
   ]
  },
  {
   "cell_type": "code",
   "execution_count": 114,
   "metadata": {},
   "outputs": [],
   "source": [
    "# 単純書き出し用\n",
    "\n",
    "\"\"\"\n",
    "クリック有、rank以上、imp以上(m = 0)\n",
    "クリック有、rank以下、imp以上(m = 1)\n",
    "クリック無、rank以上、imp以上(m = 2)\n",
    "\"\"\"\n",
    "num = 2\n",
    "out_cols = [\"インプレッション数\",\"クリック数\",\"CTR\",\"null_check\"]\n",
    "df_num = nlost_lists[num]\n",
    "\n",
    "# dt_f = df_num[df_num['null_check']]\n",
    "# dt_f = dt_f[out_cols]"
   ]
  },
  {
   "cell_type": "code",
   "execution_count": 109,
   "metadata": {
    "collapsed": true
   },
   "outputs": [],
   "source": [
    "# csv書き出し\n",
    "# nlost_lists[3].to_csv(f + \"/output/\" + \"df_raw.csv\",\n",
    "#               encoding=\"utf-8\"\n",
    "#              )"
   ]
  },
  {
   "cell_type": "code",
   "execution_count": null,
   "metadata": {
    "collapsed": true
   },
   "outputs": [],
   "source": [
    "# data_get_index  = dataset.index #index取得\n",
    "# data_get_column_index = dataset.columns#カラム名index取得\n",
    "# datalabel = dataset.loc[:,['クエリ','CTR']]#カラム名で絞り込み\n",
    "# datatype = dataset.dtypes #データ型\n",
    "# datasort = dataset.sort_values(by=[\"CTR\"], ascending=False)#そーと\n",
    "# dataset.loc[2:5,['CTR','クエリ']]\n",
    "# type(dataset)\n",
    "# d = d[['CTR']] > 0 #bool化\n",
    "# dataset.columns == 'CTR'\n",
    "\n",
    "#     slicename = csv[0:6] + csv[12:-4]\n",
    "\n",
    "# data0_append = pd.concat(sortdata_lists[0],  ignore_index=True)#Notclick_NotImp_over0\n",
    "# data1_append = pd.concat(sortdata_lists[1],  ignore_index=True)#Click_imp_over100\n",
    "# data2_append = pd.concat(sortdata_lists[2],  ignore_index=True)#Click_imp_under100\n",
    "\n",
    "#  インプレッション数null個数算出 + 列追加\n",
    "# for p in  range(len(pivotdata_lists)):\n",
    "#     data = pivotdata_lists[p].assign(\n",
    "#         X = (pivotdata_lists[p][\"インプレッション数\"]['2017/06/04'].isnull()*1\n",
    "#              + pivotdata_lists[p][\"インプレッション数\"]['2017/06/05'].isnull()*1\n",
    "#              + pivotdata_lists[p][\"インプレッション数\"]['2017/07/06'].isnull()*1\n",
    "#              + pivotdata_lists[p][\"インプレッション数\"]['2017/08/08'].isnull()*1\n",
    "#              + pivotdata_lists[p][\"インプレッション数\"]['2017/09/07'].isnull()*1\n",
    "#              + pivotdata_lists[p][\"インプレッション数\"]['2017/10/06'].isnull()*1\n",
    "#              + pivotdata_lists[p][\"インプレッション数\"]['2017/11/05'].isnull()*1\n",
    "#              + pivotdata_lists[p][\"インプレッション数\"]['2017/12/05'].isnull()*1\n",
    "#             ) >=3 #nullの数\n",
    "#     )\n",
    "#     null_lost_lists.append(data)\n",
    "\n",
    "# Series\n",
    "# type(data0_pivot[\"CTR\"]['2017/06/04'].isnull())\n",
    "\n",
    "\n",
    "# matplot\n",
    "# df_sample.plot(kind='bar', stacked=True)\n",
    "# plt.show()"
   ]
  }
 ],
 "metadata": {
  "kernelspec": {
   "display_name": "Python 3",
   "language": "python",
   "name": "python3"
  },
  "language_info": {
   "codemirror_mode": {
    "name": "ipython",
    "version": 3
   },
   "file_extension": ".py",
   "mimetype": "text/x-python",
   "name": "python",
   "nbconvert_exporter": "python",
   "pygments_lexer": "ipython3",
   "version": "3.6.1"
  }
 },
 "nbformat": 4,
 "nbformat_minor": 2
}
