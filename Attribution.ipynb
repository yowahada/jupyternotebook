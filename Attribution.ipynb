{
 "cells": [
  {
   "cell_type": "code",
   "execution_count": 197,
   "metadata": {},
   "outputs": [],
   "source": [
    "import pandas as pd\n",
    "import chardet\n",
    "import numpy as np\n",
    "import os\n",
    "import matplotlib.pyplot as plt\n",
    "%matplotlib inline\n",
    "\n",
    "# ディレクトリ抽出\n",
    "f = os.path.abspath(\"./attribute\")\n",
    "files = os.listdir(f)\n",
    "\n",
    "#ファイル名\n",
    "list = []\n",
    "for i in files:\n",
    "    if \"csv\" in i:\n",
    "        list.append(i)        \n",
    "\n",
    "concat_list = []\n",
    "\n",
    "# 下処理\n",
    "for j in list:\n",
    "    valiables = ['参照元/メディア パス', 'コンバージョン数']\n",
    "    file = 'attribute/' + j\n",
    "    date = j.split('.')\n",
    "    \n",
    "#     csv読込と年月追加\n",
    "    df = pd.read_csv(file, header=5)\n",
    "    df_attribute = df[valiables]\n",
    "    df_date = df_attribute.assign(date = date[0])\n",
    "    concat_list.append(df_date)\n",
    "\n",
    "#concat\n",
    "df = pd.concat(concat_list,  ignore_index=True)"
   ]
  },
  {
   "cell_type": "code",
   "execution_count": 199,
   "metadata": {},
   "outputs": [],
   "source": [
    "# アトリビュート経路リスト格納\n",
    "evaluation_list = df['参照元/メディア パス'].str.split('>')\n",
    "count_list = [[],[],[]]\n",
    "\n",
    "#ファーストタッチとラストタッチの評価\n",
    "#いつか中間貢献度も出す\n",
    "for i in range(len(evaluation_list)):\n",
    "    count_list[2].append(len(evaluation_list[i]))    #CV者特定期間の回数\n",
    "    \n",
    "    if(\"cpc\" in evaluation_list[i][0] or \"display\" in evaluation_list[i][0]) :    #  ファーストタッチ\n",
    "        count_list[0].append(1)\n",
    "    else:\n",
    "        count_list[0].append(0)\n",
    "    if (\"cpc\" in evaluation_list[i][len(evaluation_list[i])-1] or \"cpc\" in evaluation_list[i][len(evaluation_list[i])-1]): #  ラストタッチ \n",
    "        count_list[1].append(1)\n",
    "    else:\n",
    "        count_list[1].append(0)\n",
    "\n",
    "#ファーストタッチとラストタッチ/データ追加\n",
    "df['first_touch'] = count_list[0]\n",
    "df['last_touch'] = count_list[1]\n",
    "df['count_touch'] = count_list[2]\n",
    "\n",
    "# 抽出条件\n",
    "df_first = df[df['first_touch'] >=1]\n",
    "df_first = df_first[df_first['last_touch'] ==0]\n",
    "\n",
    "# ピポットデータの取得\n",
    "value = [\"コンバージョン数\", \"count_touch\",'first_touch','last_touch']\n",
    "index = \"参照元/メディア パス\"\n",
    "column = \"date\"\n",
    "\n",
    "df_setpivot = df_first.pivot_table(values = value, index = index, columns = column, aggfunc = 'sum')"
   ]
  },
  {
   "cell_type": "code",
   "execution_count": null,
   "metadata": {
    "collapsed": true
   },
   "outputs": [],
   "source": [
    "# csv書き出し\n",
    "# df_setpivot.to_csv(f + \"output_data2.csv\")"
   ]
  }
 ],
 "metadata": {
  "kernelspec": {
   "display_name": "Python 3",
   "language": "python",
   "name": "python3"
  },
  "language_info": {
   "codemirror_mode": {
    "name": "ipython",
    "version": 3
   },
   "file_extension": ".py",
   "mimetype": "text/x-python",
   "name": "python",
   "nbconvert_exporter": "python",
   "pygments_lexer": "ipython3",
   "version": "3.6.1"
  }
 },
 "nbformat": 4,
 "nbformat_minor": 2
}
